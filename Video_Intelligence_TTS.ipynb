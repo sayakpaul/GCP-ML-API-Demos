{
  "nbformat": 4,
  "nbformat_minor": 0,
  "metadata": {
    "colab": {
      "name": "Video_Intelligence_TTS.ipynb",
      "provenance": [],
      "collapsed_sections": [],
      "authorship_tag": "ABX9TyPnnqmLpFgdY8zaHuE6XMWC",
      "include_colab_link": true
    },
    "kernelspec": {
      "name": "python3",
      "display_name": "Python 3"
    }
  },
  "cells": [
    {
      "cell_type": "markdown",
      "metadata": {
        "id": "view-in-github",
        "colab_type": "text"
      },
      "source": [
        "<a href=\"https://colab.research.google.com/github/sayakpaul/GCP-ML-API-Demos/blob/master/Video_Intelligence_TTS.ipynb\" target=\"_parent\"><img src=\"https://colab.research.google.com/assets/colab-badge.svg\" alt=\"Open In Colab\"/></a>"
      ]
    },
    {
      "cell_type": "markdown",
      "metadata": {
        "id": "ze0pHPVFRcuR",
        "colab_type": "text"
      },
      "source": [
        "This notebook presents a small demo that marries the [Video Intelligence](https://cloud.google.com/video-intelligence) and [Text-to-Speech](https://cloud.google.com/text-to-speech) APIs offered by GCP. Following is the workflow of this demo - \n",
        "\n",
        "<div align=\"center\"><img src=\"https://i.ibb.co/DbT89pv/image.png\"></img></div>\n",
        "\n",
        "This demo requires to have billing-enabled GCP project and in there the Video Intelligence and Text-to-Speech APIs should be enabled. You should also have your GCP Credentials key in `json` format (refer [here](https://cloud.google.com/docs/authentication/getting-started)). I followed the official samples and tutorials of the APIs (which are available at the aforementioned links) to developed this demo. \n",
        "\n",
        "A potential extension of this demo could be developed to aid blind people to navigate their ways when they are outside. I developed this demo keeping this mind, hence you won't see any visual annotations. \n",
        "\n",
        "Thanks to the [GDE program](https://developers.google.com/programs/experts/) for providing with the GCP credit support which made this demo possible. \n",
        "\n",
        "<div align=\"center\"><img src=\"https://i.ibb.co/ZXtwJjV/Webp-net-resizeimage.png\" width=\"100\" height=\"100\"></img></div>"
      ]
    },
    {
      "cell_type": "code",
      "metadata": {
        "id": "DtWg_wkI2kT6",
        "colab_type": "code",
        "cellView": "form",
        "colab": {}
      },
      "source": [
        "#@title Upload your GCP credentials key to Colab\n",
        "from google.colab import files\n",
        "files.upload()"
      ],
      "execution_count": null,
      "outputs": []
    },
    {
      "cell_type": "code",
      "metadata": {
        "id": "J7LlEVqg3PVv",
        "colab_type": "code",
        "cellView": "form",
        "colab": {}
      },
      "source": [
        "#@title Install Python client libraries\n",
        "!pip install --upgrade google-cloud-videointelligence\n",
        "!pip install --upgrade google-cloud-texttospeech"
      ],
      "execution_count": null,
      "outputs": []
    },
    {
      "cell_type": "code",
      "metadata": {
        "id": "JZeFY03T2szr",
        "colab_type": "code",
        "cellView": "form",
        "colab": {}
      },
      "source": [
        "#@title Set the path to GCP credentials key\n",
        "import os\n",
        "os.environ['GOOGLE_APPLICATION_CREDENTIALS'] = '/content/fast-ai-exploration-f32c198aac7e.json' \n",
        "!echo $GOOGLE_APPLICATION_CREDENTIALS"
      ],
      "execution_count": null,
      "outputs": []
    },
    {
      "cell_type": "code",
      "metadata": {
        "id": "d97GVVkl3Y6w",
        "colab_type": "code",
        "cellView": "form",
        "colab": {}
      },
      "source": [
        "#@title Imports\n",
        "from google.cloud import videointelligence\n",
        "from google.cloud import texttospeech\n",
        "from IPython.display import Audio"
      ],
      "execution_count": null,
      "outputs": []
    },
    {
      "cell_type": "code",
      "metadata": {
        "id": "dH3DTB4n2zpj",
        "colab_type": "code",
        "cellView": "form",
        "colab": {}
      },
      "source": [
        "#@title Utility function for label detection\n",
        "#@markdown Courtesy: https://cloud.google.com/video-intelligence/docs/analyze-labels#annotating_a_file_on\n",
        "def label_video_gcs(gcs_path):\n",
        "    \"\"\" Detects labels given a GCS path. \"\"\"\n",
        "\n",
        "    video_client = videointelligence.VideoIntelligenceServiceClient()\n",
        "    features = [videointelligence.enums.Feature.LABEL_DETECTION]\n",
        "\n",
        "    mode = videointelligence.enums.LabelDetectionMode.SHOT_AND_FRAME_MODE\n",
        "    config = videointelligence.types.LabelDetectionConfig(label_detection_mode=mode)\n",
        "    context = videointelligence.types.VideoContext(label_detection_config=config)\n",
        "\n",
        "    operation = video_client.annotate_video(\n",
        "        input_uri=gcs_path, features=features, video_context=context\n",
        "    )\n",
        "    print(\"\\nProcessing video for label annotations:\")\n",
        "    result = operation.result(timeout=180)\n",
        "    print(\"\\nFinished processing.\")\n",
        "\n",
        "    # Process video/segment level label annotations\n",
        "    # Get the first response, since we sent only one video.\n",
        "    segment_labels = result.annotation_results[0].segment_label_annotations\n",
        "    video_labels = []\n",
        "    for i, segment_label in enumerate(segment_labels):\n",
        "        print(\"Video label description: {}\".format(segment_label.entity.description))\n",
        "        video_labels.append(segment_label.entity.description)\n",
        "    \n",
        "    video_labels = \", \".join(video_labels)\n",
        "    return \"I see \" + video_labels"
      ],
      "execution_count": null,
      "outputs": []
    },
    {
      "cell_type": "code",
      "metadata": {
        "id": "jbnmNDhS8UQK",
        "colab_type": "code",
        "cellView": "form",
        "colab": {}
      },
      "source": [
        "#@title Utility function for logo recognition\n",
        "#@markdown Courtesy: https://cloud.google.com/video-intelligence/docs/logo-recognition#annotate_a_video_in\n",
        "def detect_logo_gcs(gcs_path):\n",
        "    \"\"\" Detects logos given a GCS path. \"\"\"\n",
        "\n",
        "    client = videointelligence.VideoIntelligenceServiceClient()\n",
        "    features = [videointelligence.enums.Feature.LOGO_RECOGNITION]\n",
        "    operation = client.annotate_video(input_uri=gcs_path, features=features)\n",
        "\n",
        "    print(\"\\nProcessing video for logo detection:\")\n",
        "    response = operation.result(timeout=180)\n",
        "    print(\"\\nFinished processing.\")\n",
        "\n",
        "    # Get the first response, since we sent only one video.\n",
        "    annotation_result = response.annotation_results[0]\n",
        "\n",
        "    # Annotations for list of logos detected, tracked and recognized in video.\n",
        "    if len(annotation_result.logo_recognition_annotations) > 0:\n",
        "        logos = []\n",
        "        for logo_recognition_annotation in annotation_result.logo_recognition_annotations:\n",
        "            entity = logo_recognition_annotation.entity\n",
        "\n",
        "            # Opaque entity ID. Some IDs may be available in [Google Knowledge Graph\n",
        "            # Search API](https://developers.google.com/knowledge-graph/).\n",
        "            logos.append(entity.description)\n",
        "            print(u\"Description : {}\".format(entity.description))\n",
        "        logos = \", \".join(logos)\n",
        "        return \"I see logos of \" + logos\n",
        "    \n",
        "    else:\n",
        "        return \"No logos found!\""
      ],
      "execution_count": null,
      "outputs": []
    },
    {
      "cell_type": "code",
      "metadata": {
        "id": "8r05XIRS9lgM",
        "colab_type": "code",
        "cellView": "form",
        "colab": {
          "base_uri": "https://localhost:8080/",
          "height": 221
        },
        "outputId": "b19cd326-0e2e-4bad-85f9-a89975572986"
      },
      "source": [
        "#@title Detect labels and logos\n",
        "#@markdown Provide GCS path of the video or select one from the dropdown - \n",
        "GCS_PATH = \"gs://video-api-storage/sample_video.mp4\" #@param [\"gs://video-api-storage/sample_video.mp4\", \"gs://video-api-storage/massachusetts.mp4\", \"gs://video-api-storage/toronto.mp4\"] {allow-input: true}\n",
        "labels = label_video_gcs(GCS_PATH)\n",
        "logos = detect_logo_gcs(GCS_PATH)"
      ],
      "execution_count": null,
      "outputs": [
        {
          "output_type": "stream",
          "text": [
            "\n",
            "Processing video for label annotations:\n",
            "\n",
            "Finished processing.\n",
            "Video label description: sidewalk\n",
            "Video label description: street\n",
            "Video label description: public space\n",
            "Video label description: pedestrian\n",
            "\n",
            "Processing video for logo detection:\n",
            "\n",
            "Finished processing.\n"
          ],
          "name": "stdout"
        }
      ]
    },
    {
      "cell_type": "code",
      "metadata": {
        "id": "YeTtd6lVHxf3",
        "colab_type": "code",
        "cellView": "form",
        "colab": {}
      },
      "source": [
        "#@title Utility functions for generating SSML and audio\n",
        "#@markdown Courtesy: https://cloud.google.com/text-to-speech/docs/ssml-tutorial\n",
        "def text_to_ssml(sentence):\n",
        "    # Generates SSML text from plaintext.\n",
        "    # Given a sentence, this function converts the contents of the text\n",
        "    # file into a string of formatted SSML text. This function formats the SSML\n",
        "    # string so that, when synthesized, the synthetic audio will pause for two\n",
        "    # seconds between each line of the text file. This function also handles\n",
        "    # special text characters which might interfere with SSML commands.\n",
        "    #\n",
        "    # Args:\n",
        "    # inputfile: plaintext sentence\n",
        "    #\n",
        "    # Returns:\n",
        "    # A string of SSML text based on plaintext input\n",
        "\n",
        "    # Convert plaintext to SSML\n",
        "    ssml = \"<speak>{}</speak>\".format(sentence)\n",
        "\n",
        "    # Return the concatenated string of ssml script\n",
        "    return ssml\n",
        "\n",
        "def ssml_to_audio(ssml_text, outfile=\"sample_audio.mp3\"):\n",
        "    # Generates SSML text from plaintext.\n",
        "    #\n",
        "    # Given a string of SSML text and an output file name, this function\n",
        "    # calls the Text-to-Speech API. The API returns a synthetic audio\n",
        "    # version of the text, formatted according to the SSML commands. This\n",
        "    # function saves the synthetic audio to the designated output file.\n",
        "    #\n",
        "    # Args:\n",
        "    # ssml_text: string of SSML text\n",
        "    # outfile: string name of file under which to save audio output\n",
        "    #\n",
        "    # Returns:\n",
        "    # nothing\n",
        "\n",
        "    # Instantiates a client\n",
        "    client = texttospeech.TextToSpeechClient()\n",
        "\n",
        "    # Sets the text input to be synthesized\n",
        "    synthesis_input = texttospeech.SynthesisInput(ssml=ssml_text)\n",
        "\n",
        "    # Builds the voice request, selects the language code (\"en-US\") and\n",
        "    # the SSML voice gender (\"MALE\")\n",
        "    voice = texttospeech.VoiceSelectionParams(\n",
        "        language_code=\"en-US\", ssml_gender=texttospeech.SsmlVoiceGender.MALE\n",
        "    )\n",
        "\n",
        "    # Selects the type of audio file to return\n",
        "    audio_config = texttospeech.AudioConfig(\n",
        "        audio_encoding=texttospeech.AudioEncoding.MP3\n",
        "    )\n",
        "\n",
        "    # Performs the text-to-speech request on the text input with the selected\n",
        "    # voice parameters and audio file type\n",
        "    response = client.synthesize_speech(\n",
        "        input=synthesis_input, voice=voice, audio_config=audio_config\n",
        "    )\n",
        "\n",
        "    # Writes the synthetic audio to the output file.\n",
        "    with open(outfile, \"wb\") as out:\n",
        "        out.write(response.audio_content)\n",
        "        print(\"Audio content written to file \" + outfile)\n",
        "\n",
        "    return str(outfile)"
      ],
      "execution_count": null,
      "outputs": []
    },
    {
      "cell_type": "code",
      "metadata": {
        "id": "P7zdK-7TL8-i",
        "colab_type": "code",
        "colab": {
          "base_uri": "https://localhost:8080/",
          "height": 92
        },
        "outputId": "fe1e826d-af5c-40f6-cc41-78f3b29517f2"
      },
      "source": [
        "#@title Generate audio for labels\n",
        "ssml = text_to_ssml(labels)\n",
        "audio_filename = ssml_to_audio(ssml, \"labels.mp3\")\n",
        "Audio(filename=audio_filename, autoplay=True)"
      ],
      "execution_count": null,
      "outputs": [
        {
          "output_type": "stream",
          "text": [
            "Audio content written to file labels.mp3\n"
          ],
          "name": "stdout"
        },
        {
          "output_type": "execute_result",
          "data": {
            "text/html": [
              "\n",
              "                <audio controls=\"controls\" autoplay=\"autoplay\">\n",
              "                    <source src=\"data:audio/mpeg;base64,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\" type=\"audio/mpeg\" />\n",
              "                    Your browser does not support the audio element.\n",
              "                </audio>\n",
              "              "
            ],
            "text/plain": [
              "<IPython.lib.display.Audio object>"
            ]
          },
          "metadata": {
            "tags": []
          },
          "execution_count": 29
        }
      ]
    },
    {
      "cell_type": "code",
      "metadata": {
        "id": "iwl18AzRQQhY",
        "colab_type": "code",
        "colab": {
          "base_uri": "https://localhost:8080/",
          "height": 92
        },
        "outputId": "2ac77996-be93-48a8-d13f-029c1c52cd9f"
      },
      "source": [
        "#@title Generate audio for logos\n",
        "ssml = text_to_ssml(logos)\n",
        "audio_filename = ssml_to_audio(ssml, \"logos.mp3\")\n",
        "Audio(filename=audio_filename, autoplay=True)"
      ],
      "execution_count": null,
      "outputs": [
        {
          "output_type": "stream",
          "text": [
            "Audio content written to file logos.mp3\n"
          ],
          "name": "stdout"
        },
        {
          "output_type": "execute_result",
          "data": {
            "text/html": [
              "\n",
              "                <audio controls=\"controls\" autoplay=\"autoplay\">\n",
              "                    <source src=\"data:audio/mpeg;base64,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\" type=\"audio/mpeg\" />\n",
              "                    Your browser does not support the audio element.\n",
              "                </audio>\n",
              "              "
            ],
            "text/plain": [
              "<IPython.lib.display.Audio object>"
            ]
          },
          "metadata": {
            "tags": []
          },
          "execution_count": 31
        }
      ]
    }
  ]
}